{
 "cells": [
  {
   "cell_type": "code",
   "execution_count": 201,
   "metadata": {
    "collapsed": true
   },
   "outputs": [],
   "source": [
    "import pandas as pd\n",
    "import numpy as np\n",
    "import seaborn as sns\n",
    "import matplotlib.pyplot as plt\n",
    "%matplotlib inline"
   ]
  },
  {
   "cell_type": "code",
   "execution_count": 202,
   "metadata": {
    "collapsed": true
   },
   "outputs": [],
   "source": [
    "train=pd.read_csv('criminal_train.csv')\n",
    "test=pd.read_csv('criminal_test.csv')"
   ]
  },
  {
   "cell_type": "code",
   "execution_count": 203,
   "metadata": {
    "collapsed": true
   },
   "outputs": [],
   "source": [
    "ls=[]\n",
    "ls2=[]\n",
    "for x in train.columns:\n",
    "    if 'II' in x:\n",
    "        ls.append(x)\n",
    "        \n",
    "ls2=ls[0:len(ls)-2]\n",
    "ls2.append(ls[-1])\n",
    "train.drop(ls2, axis=1, inplace=True)\n",
    "test.drop(ls2, axis=1, inplace=True)"
   ]
  },
  {
   "cell_type": "code",
   "execution_count": 204,
   "metadata": {
    "collapsed": false
   },
   "outputs": [],
   "source": [
    "train.drop(['HLNVCOST','HLNVOFFR','HLNVREF','HLNVNEED','ANYHLTI2','HLCNOTMO','NRCH17_2','HLCALLFG','HLCLAST','HLLOSRSN','PDEN10','PRXRETRY','IRFAMSSI','IROTHHLT','IRINSUR4','CELLNOTCL','HLTINNOS'], axis=1, inplace=True)\n",
    "test.drop(['HLNVCOST','HLNVOFFR','HLNVREF','HLNVNEED','ANYHLTI2','HLCNOTMO','NRCH17_2','HLCALLFG','HLCLAST','HLLOSRSN','PDEN10','PRXRETRY','IRFAMSSI','IROTHHLT','IRINSUR4','CELLNOTCL','HLTINNOS'], axis=1, inplace=True)"
   ]
  },
  {
   "cell_type": "code",
   "execution_count": 205,
   "metadata": {
    "collapsed": false
   },
   "outputs": [],
   "source": [
    "import lightgbm as lgb\n",
    "light=lgb.LGBMClassifier()\n",
    "light.fit(train.drop('Criminal', axis=1),train['Criminal'])\n",
    "lpred=light.predict(test)\n",
    "submissions=pd.DataFrame(columns=['PERID', 'Criminal'])\n",
    "submissions['PERID']=test['PERID']\n",
    "submissions['Criminal']=lpred\n",
    "submissions.to_csv('lgb_final.csv', index=False)"
   ]
  }
 ],
 "metadata": {
  "kernelspec": {
   "display_name": "Python 3",
   "language": "python",
   "name": "python3"
  },
  "language_info": {
   "codemirror_mode": {
    "name": "ipython",
    "version": 3
   },
   "file_extension": ".py",
   "mimetype": "text/x-python",
   "name": "python",
   "nbconvert_exporter": "python",
   "pygments_lexer": "ipython3",
   "version": "3.6.0"
  }
 },
 "nbformat": 4,
 "nbformat_minor": 2
}
